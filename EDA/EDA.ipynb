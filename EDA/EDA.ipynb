{
 "cells": [
  {
   "cell_type": "markdown",
   "id": "2e4505a1-ec9c-4bb5-9244-5eb2c4d03079",
   "metadata": {},
   "source": [
    "Импортируем необходимые модули для анализа данных"
   ]
  },
  {
   "cell_type": "code",
   "execution_count": 6,
   "id": "275ffc18-7a73-4448-bfbd-9f88a930b25c",
   "metadata": {
    "tags": []
   },
   "outputs": [],
   "source": [
    "import pandas as pd\n",
    "import numpy as np"
   ]
  },
  {
   "cell_type": "markdown",
   "id": "f60666b2-cb5f-48cb-830c-59f0a8323871",
   "metadata": {},
   "source": [
    "Импортируем модуль для подключения к базе данных"
   ]
  },
  {
   "cell_type": "code",
   "execution_count": 7,
   "id": "39cf7c26-b495-4872-b1ce-8a69fb766eb5",
   "metadata": {},
   "outputs": [],
   "source": [
    "import psycopg"
   ]
  },
  {
   "cell_type": "markdown",
   "id": "c6d58d0e-fb94-473c-99ff-899e48a94b42",
   "metadata": {},
   "source": [
    "Импортируем модуль для визуализации данных `SeaBorn` и отображения их в `NoteBook`"
   ]
  },
  {
   "cell_type": "code",
   "execution_count": 8,
   "id": "d3b91795-20c5-4a60-9c15-a0de8a5f9844",
   "metadata": {
    "tags": []
   },
   "outputs": [],
   "source": [
    "import seaborn as sns\n",
    "import matplotlib.pyplot as plt\n",
    "%matplotlib inline"
   ]
  },
  {
   "cell_type": "markdown",
   "id": "28dcf2ee-5d7a-4fbf-8ed3-cf679ebfe82b",
   "metadata": {
    "tags": []
   },
   "source": [
    "Устанавливаем подключение к базе данных"
   ]
  },
  {
   "cell_type": "code",
   "execution_count": 9,
   "id": "72e90d01-878c-47cc-ac1a-d90d335a3d59",
   "metadata": {
    "tags": []
   },
   "outputs": [],
   "source": [
    "conn = psycopg.connect(dbname=\"my_db\",\n",
    "                        host=\"postgresql\",\n",
    "                        user=\"post_admin\",\n",
    "                        password=\"post_admin\",\n",
    "                        port=\"5432\")"
   ]
  },
  {
   "cell_type": "markdown",
   "id": "9cc9ccc6-ffe9-4075-b9ac-3e93cb93f3f3",
   "metadata": {},
   "source": [
    "Выполним запрос, чтобы убедиться что у нас работает подлючение. Выведим первый 10 строк таблицы `orders`\n",
    "\n",
    "Также полученные запросы из базы данных будем преобразовывать в DataFrame для наглядности вывода данных"
   ]
  },
  {
   "cell_type": "code",
   "execution_count": 10,
   "id": "10ba25c1-eef0-4ee5-a7a1-172d14895b8b",
   "metadata": {
    "tags": []
   },
   "outputs": [
    {
     "name": "stderr",
     "output_type": "stream",
     "text": [
      "/tmp/ipykernel_72/1394968148.py:1: UserWarning: pandas only supports SQLAlchemy connectable (engine/connection) or database string URI or sqlite3 DBAPI2 connection. Other DBAPI2 objects are not tested. Please consider using SQLAlchemy.\n",
      "  pd.read_sql_query(\"SELECT * FROM orders LIMIT 10\", conn)\n"
     ]
    },
    {
     "data": {
      "text/html": [
       "<div>\n",
       "<style scoped>\n",
       "    .dataframe tbody tr th:only-of-type {\n",
       "        vertical-align: middle;\n",
       "    }\n",
       "\n",
       "    .dataframe tbody tr th {\n",
       "        vertical-align: top;\n",
       "    }\n",
       "\n",
       "    .dataframe thead th {\n",
       "        text-align: right;\n",
       "    }\n",
       "</style>\n",
       "<table border=\"1\" class=\"dataframe\">\n",
       "  <thead>\n",
       "    <tr style=\"text-align: right;\">\n",
       "      <th></th>\n",
       "      <th>order_id</th>\n",
       "      <th>order_date</th>\n",
       "      <th>customer_id</th>\n",
       "      <th>employee_id</th>\n",
       "      <th>shipper_id</th>\n",
       "      <th>product_id</th>\n",
       "      <th>sales</th>\n",
       "      <th>costs</th>\n",
       "      <th>profit</th>\n",
       "      <th>quantity</th>\n",
       "      <th>discount</th>\n",
       "      <th>freight</th>\n",
       "    </tr>\n",
       "  </thead>\n",
       "  <tbody>\n",
       "    <tr>\n",
       "      <th>0</th>\n",
       "      <td>10665</td>\n",
       "      <td>2011-12-07</td>\n",
       "      <td>48</td>\n",
       "      <td>1</td>\n",
       "      <td>3</td>\n",
       "      <td>59</td>\n",
       "      <td>8.03</td>\n",
       "      <td>6.50</td>\n",
       "      <td>1.53</td>\n",
       "      <td>1</td>\n",
       "      <td>0.00</td>\n",
       "      <td>37.60</td>\n",
       "    </tr>\n",
       "    <tr>\n",
       "      <th>1</th>\n",
       "      <td>11077</td>\n",
       "      <td>2013-03-02</td>\n",
       "      <td>73</td>\n",
       "      <td>9</td>\n",
       "      <td>2</td>\n",
       "      <td>73</td>\n",
       "      <td>6.11</td>\n",
       "      <td>5.84</td>\n",
       "      <td>0.27</td>\n",
       "      <td>5</td>\n",
       "      <td>0.06</td>\n",
       "      <td>64.93</td>\n",
       "    </tr>\n",
       "    <tr>\n",
       "      <th>2</th>\n",
       "      <td>10537</td>\n",
       "      <td>2010-08-11</td>\n",
       "      <td>68</td>\n",
       "      <td>6</td>\n",
       "      <td>1</td>\n",
       "      <td>73</td>\n",
       "      <td>9.36</td>\n",
       "      <td>7.58</td>\n",
       "      <td>1.78</td>\n",
       "      <td>9</td>\n",
       "      <td>0.00</td>\n",
       "      <td>36.46</td>\n",
       "    </tr>\n",
       "    <tr>\n",
       "      <th>3</th>\n",
       "      <td>10281</td>\n",
       "      <td>2011-11-10</td>\n",
       "      <td>69</td>\n",
       "      <td>4</td>\n",
       "      <td>1</td>\n",
       "      <td>19</td>\n",
       "      <td>9.90</td>\n",
       "      <td>8.55</td>\n",
       "      <td>1.35</td>\n",
       "      <td>1</td>\n",
       "      <td>0.00</td>\n",
       "      <td>21.86</td>\n",
       "    </tr>\n",
       "    <tr>\n",
       "      <th>4</th>\n",
       "      <td>10538</td>\n",
       "      <td>2012-10-12</td>\n",
       "      <td>17</td>\n",
       "      <td>7</td>\n",
       "      <td>2</td>\n",
       "      <td>72</td>\n",
       "      <td>11.58</td>\n",
       "      <td>9.38</td>\n",
       "      <td>2.20</td>\n",
       "      <td>1</td>\n",
       "      <td>0.00</td>\n",
       "      <td>28.79</td>\n",
       "    </tr>\n",
       "    <tr>\n",
       "      <th>5</th>\n",
       "      <td>10278</td>\n",
       "      <td>2009-11-09</td>\n",
       "      <td>5</td>\n",
       "      <td>2</td>\n",
       "      <td>2</td>\n",
       "      <td>63</td>\n",
       "      <td>168.16</td>\n",
       "      <td>145.29</td>\n",
       "      <td>22.87</td>\n",
       "      <td>8</td>\n",
       "      <td>0.00</td>\n",
       "      <td>50.46</td>\n",
       "    </tr>\n",
       "    <tr>\n",
       "      <th>6</th>\n",
       "      <td>10278</td>\n",
       "      <td>2009-11-09</td>\n",
       "      <td>5</td>\n",
       "      <td>2</td>\n",
       "      <td>2</td>\n",
       "      <td>73</td>\n",
       "      <td>26.75</td>\n",
       "      <td>23.11</td>\n",
       "      <td>3.64</td>\n",
       "      <td>25</td>\n",
       "      <td>0.00</td>\n",
       "      <td>50.46</td>\n",
       "    </tr>\n",
       "    <tr>\n",
       "      <th>7</th>\n",
       "      <td>10291</td>\n",
       "      <td>2009-11-24</td>\n",
       "      <td>61</td>\n",
       "      <td>2</td>\n",
       "      <td>2</td>\n",
       "      <td>13</td>\n",
       "      <td>506.66</td>\n",
       "      <td>397.96</td>\n",
       "      <td>108.70</td>\n",
       "      <td>20</td>\n",
       "      <td>46.06</td>\n",
       "      <td>21.08</td>\n",
       "    </tr>\n",
       "    <tr>\n",
       "      <th>8</th>\n",
       "      <td>10291</td>\n",
       "      <td>2009-11-24</td>\n",
       "      <td>61</td>\n",
       "      <td>2</td>\n",
       "      <td>2</td>\n",
       "      <td>44</td>\n",
       "      <td>2182.75</td>\n",
       "      <td>1714.45</td>\n",
       "      <td>468.30</td>\n",
       "      <td>24</td>\n",
       "      <td>198.43</td>\n",
       "      <td>21.08</td>\n",
       "    </tr>\n",
       "    <tr>\n",
       "      <th>9</th>\n",
       "      <td>10291</td>\n",
       "      <td>2009-11-24</td>\n",
       "      <td>61</td>\n",
       "      <td>2</td>\n",
       "      <td>2</td>\n",
       "      <td>51</td>\n",
       "      <td>234.43</td>\n",
       "      <td>184.14</td>\n",
       "      <td>50.29</td>\n",
       "      <td>2</td>\n",
       "      <td>21.31</td>\n",
       "      <td>21.08</td>\n",
       "    </tr>\n",
       "  </tbody>\n",
       "</table>\n",
       "</div>"
      ],
      "text/plain": [
       "   order_id  order_date  customer_id  employee_id  shipper_id  product_id  \\\n",
       "0     10665  2011-12-07           48            1           3          59   \n",
       "1     11077  2013-03-02           73            9           2          73   \n",
       "2     10537  2010-08-11           68            6           1          73   \n",
       "3     10281  2011-11-10           69            4           1          19   \n",
       "4     10538  2012-10-12           17            7           2          72   \n",
       "5     10278  2009-11-09            5            2           2          63   \n",
       "6     10278  2009-11-09            5            2           2          73   \n",
       "7     10291  2009-11-24           61            2           2          13   \n",
       "8     10291  2009-11-24           61            2           2          44   \n",
       "9     10291  2009-11-24           61            2           2          51   \n",
       "\n",
       "     sales    costs  profit  quantity  discount  freight  \n",
       "0     8.03     6.50    1.53         1      0.00    37.60  \n",
       "1     6.11     5.84    0.27         5      0.06    64.93  \n",
       "2     9.36     7.58    1.78         9      0.00    36.46  \n",
       "3     9.90     8.55    1.35         1      0.00    21.86  \n",
       "4    11.58     9.38    2.20         1      0.00    28.79  \n",
       "5   168.16   145.29   22.87         8      0.00    50.46  \n",
       "6    26.75    23.11    3.64        25      0.00    50.46  \n",
       "7   506.66   397.96  108.70        20     46.06    21.08  \n",
       "8  2182.75  1714.45  468.30        24    198.43    21.08  \n",
       "9   234.43   184.14   50.29         2     21.31    21.08  "
      ]
     },
     "execution_count": 10,
     "metadata": {},
     "output_type": "execute_result"
    }
   ],
   "source": [
    "pd.read_sql_query(\"SELECT * FROM orders LIMIT 10\", conn)"
   ]
  },
  {
   "cell_type": "markdown",
   "id": "729594dc-1009-4976-8c9f-ebefb9e2524b",
   "metadata": {},
   "source": [
    "Как мы видим соединение установленно корректно и можно приступать к работе"
   ]
  },
  {
   "cell_type": "markdown",
   "id": "11ae60b7-7a3f-461e-9861-906d69cae3a3",
   "metadata": {},
   "source": [
    "#### 1. Посмотрим с какой даты с какой у нас начинаются продажи и какая последняя дата продажи"
   ]
  },
  {
   "cell_type": "code",
   "execution_count": 11,
   "id": "0d46596a-6e2b-4942-b578-0edc9e81c17d",
   "metadata": {
    "tags": []
   },
   "outputs": [
    {
     "name": "stderr",
     "output_type": "stream",
     "text": [
      "/tmp/ipykernel_72/3278632691.py:5: UserWarning: pandas only supports SQLAlchemy connectable (engine/connection) or database string URI or sqlite3 DBAPI2 connection. Other DBAPI2 objects are not tested. Please consider using SQLAlchemy.\n",
      "  pd.read_sql_query(query, conn)\n"
     ]
    },
    {
     "data": {
      "text/html": [
       "<div>\n",
       "<style scoped>\n",
       "    .dataframe tbody tr th:only-of-type {\n",
       "        vertical-align: middle;\n",
       "    }\n",
       "\n",
       "    .dataframe tbody tr th {\n",
       "        vertical-align: top;\n",
       "    }\n",
       "\n",
       "    .dataframe thead th {\n",
       "        text-align: right;\n",
       "    }\n",
       "</style>\n",
       "<table border=\"1\" class=\"dataframe\">\n",
       "  <thead>\n",
       "    <tr style=\"text-align: right;\">\n",
       "      <th></th>\n",
       "      <th>min_date</th>\n",
       "      <th>max_date</th>\n",
       "    </tr>\n",
       "  </thead>\n",
       "  <tbody>\n",
       "    <tr>\n",
       "      <th>0</th>\n",
       "      <td>2009-07-21</td>\n",
       "      <td>2013-03-29</td>\n",
       "    </tr>\n",
       "  </tbody>\n",
       "</table>\n",
       "</div>"
      ],
      "text/plain": [
       "     min_date    max_date\n",
       "0  2009-07-21  2013-03-29"
      ]
     },
     "execution_count": 11,
     "metadata": {},
     "output_type": "execute_result"
    }
   ],
   "source": [
    "query = \"\"\"\n",
    "    SELECT MIN(order_date) AS min_date, MAX(order_date) AS max_date\n",
    "    FROM orders\n",
    "\"\"\"\n",
    "pd.read_sql_query(query, conn)"
   ]
  },
  {
   "cell_type": "markdown",
   "id": "a754a3bf-cf37-4fc9-878e-a1b727dbf8c0",
   "metadata": {},
   "source": [
    "Как мы видим работа нашего отдел продаж началась `2009-07-21` и последняя продажа была `2013-03-29`"
   ]
  },
  {
   "cell_type": "markdown",
   "id": "60dffd48-c77e-47b0-a1f5-086de5620aac",
   "metadata": {},
   "source": [
    "#### 2. Посмотрим вообще сколько у нас было продаж"
   ]
  },
  {
   "cell_type": "code",
   "execution_count": 12,
   "id": "42afbfcf-b569-46cc-a3cb-184a1383359a",
   "metadata": {
    "tags": []
   },
   "outputs": [
    {
     "name": "stderr",
     "output_type": "stream",
     "text": [
      "/tmp/ipykernel_72/1587899068.py:5: UserWarning: pandas only supports SQLAlchemy connectable (engine/connection) or database string URI or sqlite3 DBAPI2 connection. Other DBAPI2 objects are not tested. Please consider using SQLAlchemy.\n",
      "  pd.read_sql_query(query, conn)\n"
     ]
    },
    {
     "data": {
      "text/html": [
       "<div>\n",
       "<style scoped>\n",
       "    .dataframe tbody tr th:only-of-type {\n",
       "        vertical-align: middle;\n",
       "    }\n",
       "\n",
       "    .dataframe tbody tr th {\n",
       "        vertical-align: top;\n",
       "    }\n",
       "\n",
       "    .dataframe thead th {\n",
       "        text-align: right;\n",
       "    }\n",
       "</style>\n",
       "<table border=\"1\" class=\"dataframe\">\n",
       "  <thead>\n",
       "    <tr style=\"text-align: right;\">\n",
       "      <th></th>\n",
       "      <th>count</th>\n",
       "    </tr>\n",
       "  </thead>\n",
       "  <tbody>\n",
       "    <tr>\n",
       "      <th>0</th>\n",
       "      <td>2172</td>\n",
       "    </tr>\n",
       "  </tbody>\n",
       "</table>\n",
       "</div>"
      ],
      "text/plain": [
       "   count\n",
       "0   2172"
      ]
     },
     "execution_count": 12,
     "metadata": {},
     "output_type": "execute_result"
    }
   ],
   "source": [
    "query = \"\"\"\n",
    "    SELECT COUNT(order_id) \n",
    "    FROM orders\n",
    "\"\"\"\n",
    "pd.read_sql_query(query, conn)"
   ]
  },
  {
   "cell_type": "markdown",
   "id": "46226a00-749e-47ab-a3c3-25385d60b9d2",
   "metadata": {},
   "source": [
    "Окей, значит за все время работы нашего тогового отдела было совершено 2172 продажи\n",
    "\n",
    "Посмотрим сколько из них уникальных заказов"
   ]
  },
  {
   "cell_type": "code",
   "execution_count": 13,
   "id": "8cd8388c-96cb-432c-9713-2904ce553259",
   "metadata": {
    "tags": []
   },
   "outputs": [
    {
     "name": "stderr",
     "output_type": "stream",
     "text": [
      "/tmp/ipykernel_72/2314718465.py:5: UserWarning: pandas only supports SQLAlchemy connectable (engine/connection) or database string URI or sqlite3 DBAPI2 connection. Other DBAPI2 objects are not tested. Please consider using SQLAlchemy.\n",
      "  pd.read_sql_query(query, conn)\n"
     ]
    },
    {
     "data": {
      "text/html": [
       "<div>\n",
       "<style scoped>\n",
       "    .dataframe tbody tr th:only-of-type {\n",
       "        vertical-align: middle;\n",
       "    }\n",
       "\n",
       "    .dataframe tbody tr th {\n",
       "        vertical-align: top;\n",
       "    }\n",
       "\n",
       "    .dataframe thead th {\n",
       "        text-align: right;\n",
       "    }\n",
       "</style>\n",
       "<table border=\"1\" class=\"dataframe\">\n",
       "  <thead>\n",
       "    <tr style=\"text-align: right;\">\n",
       "      <th></th>\n",
       "      <th>count</th>\n",
       "    </tr>\n",
       "  </thead>\n",
       "  <tbody>\n",
       "    <tr>\n",
       "      <th>0</th>\n",
       "      <td>836</td>\n",
       "    </tr>\n",
       "  </tbody>\n",
       "</table>\n",
       "</div>"
      ],
      "text/plain": [
       "   count\n",
       "0    836"
      ]
     },
     "execution_count": 13,
     "metadata": {},
     "output_type": "execute_result"
    }
   ],
   "source": [
    "query = \"\"\"\n",
    "    SELECT COUNT(DISTINCT order_id)\n",
    "    FROM orders\n",
    "\"\"\"\n",
    "pd.read_sql_query(query, conn)"
   ]
  },
  {
   "cell_type": "markdown",
   "id": "1bad6d65-def3-4608-9452-b986a2e1f28d",
   "metadata": {},
   "source": [
    "Значит за 1 заказ может быть продано несколько позиций и все они относят к одному заказу"
   ]
  },
  {
   "cell_type": "markdown",
   "id": "c08e6251-a751-4879-afdd-dc299cae73ad",
   "metadata": {},
   "source": [
    "#### 3. Посмотрим сколько у нас уникальных покупателей"
   ]
  },
  {
   "cell_type": "code",
   "execution_count": 14,
   "id": "dbc107ed-034d-4765-bb38-4dfe40bd809a",
   "metadata": {
    "tags": []
   },
   "outputs": [
    {
     "name": "stderr",
     "output_type": "stream",
     "text": [
      "/tmp/ipykernel_72/2159200200.py:5: UserWarning: pandas only supports SQLAlchemy connectable (engine/connection) or database string URI or sqlite3 DBAPI2 connection. Other DBAPI2 objects are not tested. Please consider using SQLAlchemy.\n",
      "  pd.read_sql_query(query, conn)\n"
     ]
    },
    {
     "data": {
      "text/html": [
       "<div>\n",
       "<style scoped>\n",
       "    .dataframe tbody tr th:only-of-type {\n",
       "        vertical-align: middle;\n",
       "    }\n",
       "\n",
       "    .dataframe tbody tr th {\n",
       "        vertical-align: top;\n",
       "    }\n",
       "\n",
       "    .dataframe thead th {\n",
       "        text-align: right;\n",
       "    }\n",
       "</style>\n",
       "<table border=\"1\" class=\"dataframe\">\n",
       "  <thead>\n",
       "    <tr style=\"text-align: right;\">\n",
       "      <th></th>\n",
       "      <th>count</th>\n",
       "    </tr>\n",
       "  </thead>\n",
       "  <tbody>\n",
       "    <tr>\n",
       "      <th>0</th>\n",
       "      <td>90</td>\n",
       "    </tr>\n",
       "  </tbody>\n",
       "</table>\n",
       "</div>"
      ],
      "text/plain": [
       "   count\n",
       "0     90"
      ]
     },
     "execution_count": 14,
     "metadata": {},
     "output_type": "execute_result"
    }
   ],
   "source": [
    "query = \"\"\"\n",
    "    SELECT COUNT(DISTINCT customer_id)\n",
    "    FROM orders\n",
    "\"\"\"\n",
    "pd.read_sql_query(query, conn)"
   ]
  },
  {
   "cell_type": "markdown",
   "id": "349847b8-6218-43b3-bf5f-ba44625b677f",
   "metadata": {},
   "source": [
    "Всего у них 90 уникальных покупателей"
   ]
  },
  {
   "cell_type": "markdown",
   "id": "d0517e5d-08c5-4bee-9a6e-120fe6fddc40",
   "metadata": {},
   "source": [
    "#### 4. Посмотрим какая минимальная, средняя, максимальная сумма заказа и построим распределение суммы для каждого товара, для того чтобы понять, как распределены данные"
   ]
  },
  {
   "cell_type": "code",
   "execution_count": 15,
   "id": "af6f7591-03bf-4bc0-aff1-1b4c38008a40",
   "metadata": {
    "tags": []
   },
   "outputs": [
    {
     "name": "stderr",
     "output_type": "stream",
     "text": [
      "/tmp/ipykernel_72/923888073.py:5: UserWarning: pandas only supports SQLAlchemy connectable (engine/connection) or database string URI or sqlite3 DBAPI2 connection. Other DBAPI2 objects are not tested. Please consider using SQLAlchemy.\n",
      "  pd.read_sql_query(query, conn)\n"
     ]
    },
    {
     "data": {
      "text/html": [
       "<div>\n",
       "<style scoped>\n",
       "    .dataframe tbody tr th:only-of-type {\n",
       "        vertical-align: middle;\n",
       "    }\n",
       "\n",
       "    .dataframe tbody tr th {\n",
       "        vertical-align: top;\n",
       "    }\n",
       "\n",
       "    .dataframe thead th {\n",
       "        text-align: right;\n",
       "    }\n",
       "</style>\n",
       "<table border=\"1\" class=\"dataframe\">\n",
       "  <thead>\n",
       "    <tr style=\"text-align: right;\">\n",
       "      <th></th>\n",
       "      <th>min</th>\n",
       "      <th>mean</th>\n",
       "      <th>max</th>\n",
       "    </tr>\n",
       "  </thead>\n",
       "  <tbody>\n",
       "    <tr>\n",
       "      <th>0</th>\n",
       "      <td>2.12</td>\n",
       "      <td>820.970497</td>\n",
       "      <td>43755.12</td>\n",
       "    </tr>\n",
       "  </tbody>\n",
       "</table>\n",
       "</div>"
      ],
      "text/plain": [
       "    min        mean       max\n",
       "0  2.12  820.970497  43755.12"
      ]
     },
     "execution_count": 15,
     "metadata": {},
     "output_type": "execute_result"
    }
   ],
   "source": [
    "query = \"\"\"\n",
    "    SELECT MIN(sales) AS min, AVG(sales) AS mean, MAX(sales) AS max\n",
    "    FROM orders\n",
    "\"\"\"\n",
    "pd.read_sql_query(query, conn)"
   ]
  },
  {
   "cell_type": "markdown",
   "id": "7e877433-bd92-4fde-ae3e-31cd0004e083",
   "metadata": {},
   "source": [
    "Теперь посмотрим на распределение заказов"
   ]
  },
  {
   "cell_type": "code",
   "execution_count": 16,
   "id": "00e18c30-9ebf-49da-b67c-a58e48faee02",
   "metadata": {
    "tags": []
   },
   "outputs": [
    {
     "name": "stderr",
     "output_type": "stream",
     "text": [
      "/tmp/ipykernel_72/2367719478.py:2: UserWarning: pandas only supports SQLAlchemy connectable (engine/connection) or database string URI or sqlite3 DBAPI2 connection. Other DBAPI2 objects are not tested. Please consider using SQLAlchemy.\n",
      "  data = pd.read_sql_query(query, conn)\n"
     ]
    }
   ],
   "source": [
    "query = \"SELECT sales FROM orders\"\n",
    "data = pd.read_sql_query(query, conn)"
   ]
  },
  {
   "cell_type": "code",
   "execution_count": 17,
   "id": "f889016a-ac7a-4ef9-a262-61519a3ab0e3",
   "metadata": {
    "tags": []
   },
   "outputs": [
    {
     "data": {
      "text/plain": [
       "<Axes: ylabel='Count'>"
      ]
     },
     "execution_count": 17,
     "metadata": {},
     "output_type": "execute_result"
    },
    {
     "data": {
      "image/png": "[encoded data removed]",
      "text/plain": [
       "<Figure size 640x480 with 1 Axes>"
      ]
     },
     "metadata": {},
     "output_type": "display_data"
    }
   ],
   "source": [
    "sns.histplot(data)"
   ]
  },
  {
   "cell_type": "markdown",
   "id": "d4aee405-2f60-44a3-8e96-89a107c4faf8",
   "metadata": {},
   "source": [
    "Как мы видим гистрограмма не отображает корректно наше расределение, т.к. основное количество покупок на сумму от `2$` до `~3000$`, то построим `ящик с усам`"
   ]
  },
  {
   "cell_type": "code",
   "execution_count": 18,
   "id": "e414c0a8-5e4d-4f2c-b7f4-af96637ee425",
   "metadata": {
    "tags": []
   },
   "outputs": [
    {
     "data": {
      "text/plain": [
       "<Axes: >"
      ]
     },
     "execution_count": 18,
     "metadata": {},
     "output_type": "execute_result"
    },
    {
     "data": {
      "image/png": "[encoded data removed]",
      "text/plain": [
       "<Figure size 640x480 with 1 Axes>"
      ]
     },
     "metadata": {},
     "output_type": "display_data"
    }
   ],
   "source": [
    "sns.boxplot(data, orient=\"h\")"
   ]
  },
  {
   "cell_type": "markdown",
   "id": "f6104a58-f5fa-464a-a187-649f390d1e4e",
   "metadata": {},
   "source": [
    "Как мы видим имеется большое кличество выбросов с аномальными суммами"
   ]
  },
  {
   "cell_type": "markdown",
   "id": "c062ae8a-46de-41a3-a3b5-6a9e281da7b6",
   "metadata": {
    "tags": []
   },
   "source": [
    "Посмотрим на эти заказы и определим какие категории товаров так продаются"
   ]
  },
  {
   "cell_type": "code",
   "execution_count": 19,
   "id": "6fabdac4-8225-4d84-b0e1-b863bd252b4b",
   "metadata": {
    "tags": []
   },
   "outputs": [
    {
     "name": "stderr",
     "output_type": "stream",
     "text": [
      "/tmp/ipykernel_72/3107851012.py:7: UserWarning: pandas only supports SQLAlchemy connectable (engine/connection) or database string URI or sqlite3 DBAPI2 connection. Other DBAPI2 objects are not tested. Please consider using SQLAlchemy.\n",
      "  data = pd.read_sql_query(query, conn)\n"
     ]
    }
   ],
   "source": [
    "query = \"\"\"\n",
    "    SELECT order_id, category, sales\n",
    "    FROM orders LEFT JOIN products ON orders.product_id=products.products_id\n",
    "        LEFT JOIN categories ON products.category_id=categories.category_id\n",
    "    WHERE sales > 10000\n",
    "\"\"\"\n",
    "data = pd.read_sql_query(query, conn)"
   ]
  },
  {
   "cell_type": "code",
   "execution_count": 20,
   "id": "f2e5a299-3dd8-4507-ad9a-d44e062a4984",
   "metadata": {
    "tags": []
   },
   "outputs": [
    {
     "name": "stdout",
     "output_type": "stream",
     "text": [
      "    order_id        category     sales\n",
      "12     10991     Womens wear  43755.12\n",
      "4      10612     Womens wear  32075.20\n",
      "11     10961     Womens wear  23334.60\n",
      "16     11050     Womens wear  21109.55\n",
      "17     10808     Womens wear  21077.20\n",
      "1      10475     Womens wear  20042.09\n",
      "0      10530     Womens wear  19557.50\n",
      "15     10962     Womens wear  16628.48\n",
      "8      10701     Womens wear  14456.19\n",
      "7      10273     Womens wear  14281.34\n",
      "6      10630     Womens wear  14078.05\n",
      "5      10399     Womens wear  13366.85\n",
      "3      10319     Womens wear  12119.10\n",
      "9      10776  Men´s Footwear  11665.08\n",
      "2      10569     Womens wear  11229.90\n",
      "14     10897  Men´s Footwear  10652.00\n",
      "10     10837     Womens wear  10140.90\n",
      "13     11030  Men´s Footwear  10074.75\n"
     ]
    }
   ],
   "source": [
    "print(data.sort_values(by=\"sales\", ascending=False))"
   ]
  },
  {
   "cell_type": "markdown",
   "id": "90d79e16-eb3b-4a1d-a29f-5ccfaad244bb",
   "metadata": {},
   "source": [
    "Как мы видим, что ТОП продаж занимается женская одежда"
   ]
  },
  {
   "cell_type": "markdown",
   "id": "7d42e802-b7d4-4b20-a0f7-e5fc24b26cf7",
   "metadata": {},
   "source": [
    "#### 5. Посмотрим на распределение количества товаров в заказе"
   ]
  },
  {
   "cell_type": "code",
   "execution_count": 21,
   "id": "78ff3638-ad3d-4035-a5a4-081aaddb421a",
   "metadata": {
    "tags": []
   },
   "outputs": [
    {
     "name": "stderr",
     "output_type": "stream",
     "text": [
      "/tmp/ipykernel_72/969116723.py:6: UserWarning: pandas only supports SQLAlchemy connectable (engine/connection) or database string URI or sqlite3 DBAPI2 connection. Other DBAPI2 objects are not tested. Please consider using SQLAlchemy.\n",
      "  data = pd.read_sql_query(query, conn)\n"
     ]
    }
   ],
   "source": [
    "query = \"\"\"\n",
    "    SELECT SUM(quantity) AS sum_q\n",
    "    FROM orders\n",
    "    GROUP BY order_id\n",
    "\"\"\"\n",
    "data = pd.read_sql_query(query, conn)"
   ]
  },
  {
   "cell_type": "markdown",
   "id": "3736b52c-58b6-4262-ab70-604ce9731beb",
   "metadata": {},
   "source": [
    "Теперь посмотрим на распределение количества товаров по заказам"
   ]
  },
  {
   "cell_type": "code",
   "execution_count": 22,
   "id": "1a0fe5ab-7123-4a01-ab28-00ef7c0c45b8",
   "metadata": {
    "tags": []
   },
   "outputs": [
    {
     "data": {
      "image/png": "[encoded data removed]",
      "text/plain": [
       "<Figure size 640x480 with 1 Axes>"
      ]
     },
     "metadata": {},
     "output_type": "display_data"
    }
   ],
   "source": [
    "q75 = np.quantile(data, 0.75)\n",
    "\n",
    "graph = sns.histplot(data)\n",
    "graph.axvline(q75, color=\"r\")\n",
    "plt.show()"
   ]
  },
  {
   "cell_type": "markdown",
   "id": "e78171c3-d0ab-49a1-9fe6-f71c9ea6f947",
   "metadata": {},
   "source": [
    "Как мы видим в 75% заказов количество товаров от 1 до 80 единиц"
   ]
  },
  {
   "cell_type": "markdown",
   "id": "48bb05fa-69a0-4159-bc2e-47a0c247f349",
   "metadata": {},
   "source": [
    "#### 6. Посмотрим как распределены скидки на наши товары"
   ]
  },
  {
   "cell_type": "code",
   "execution_count": 23,
   "id": "73471ba1-5324-4b26-b2ad-fe9491682738",
   "metadata": {
    "tags": []
   },
   "outputs": [
    {
     "name": "stderr",
     "output_type": "stream",
     "text": [
      "/tmp/ipykernel_72/3562021407.py:5: UserWarning: pandas only supports SQLAlchemy connectable (engine/connection) or database string URI or sqlite3 DBAPI2 connection. Other DBAPI2 objects are not tested. Please consider using SQLAlchemy.\n",
      "  data = pd.read_sql_query(query, conn)\n"
     ]
    }
   ],
   "source": [
    "query = \"\"\"\n",
    "    SELECT discount\n",
    "    FROM orders\n",
    "\"\"\"\n",
    "data = pd.read_sql_query(query, conn)"
   ]
  },
  {
   "cell_type": "code",
   "execution_count": 24,
   "id": "f251edf9-965c-4292-a3c3-983b17795200",
   "metadata": {
    "tags": []
   },
   "outputs": [
    {
     "data": {
      "text/plain": [
       "<Axes: ylabel='Count'>"
      ]
     },
     "execution_count": 24,
     "metadata": {},
     "output_type": "execute_result"
    },
    {
     "data": {
      "image/png": "[encoded data removed]",
      "text/plain": [
       "<Figure size 640x480 with 1 Axes>"
      ]
     },
     "metadata": {},
     "output_type": "display_data"
    }
   ],
   "source": [
    "sns.histplot(data)"
   ]
  },
  {
   "cell_type": "markdown",
   "id": "e3f277a9-cf05-416b-8a9d-348523ab4900",
   "metadata": {
    "tags": []
   },
   "source": [
    "График не корректно отображает скидки, т.к. большая часть скидок сконцентрирована около `~10$`, выполним построение `ящика с усами`"
   ]
  },
  {
   "cell_type": "code",
   "execution_count": 25,
   "id": "9b4f8952-22a6-4578-8a07-3ea489c0b222",
   "metadata": {
    "tags": []
   },
   "outputs": [
    {
     "data": {
      "text/plain": [
       "<Axes: >"
      ]
     },
     "execution_count": 25,
     "metadata": {},
     "output_type": "execute_result"
    },
    {
     "data": {
      "image/png": "[encoded data removed]",
      "text/plain": [
       "<Figure size 640x480 with 1 Axes>"
      ]
     },
     "metadata": {},
     "output_type": "display_data"
    }
   ],
   "source": [
    "sns.boxplot(data, orient=\"h\")"
   ]
  },
  {
   "cell_type": "markdown",
   "id": "d9cb5a9d-114d-4e04-8afd-7e3e3c991823",
   "metadata": {},
   "source": [
    "Как мы видим есть аномальные скидки на товары, но более всего заметна скидка более 7000`$`"
   ]
  },
  {
   "cell_type": "markdown",
   "id": "c0e0b823-a777-4e8f-a467-ea34ee6ba5fd",
   "metadata": {},
   "source": [
    "Определим этот заказ и товар и категорию, на который была предоставлена максимальная скидка"
   ]
  },
  {
   "cell_type": "code",
   "execution_count": 26,
   "id": "5b4cab2f-02f1-408c-8174-767c61a65928",
   "metadata": {
    "tags": []
   },
   "outputs": [
    {
     "name": "stderr",
     "output_type": "stream",
     "text": [
      "/tmp/ipykernel_72/2112987612.py:7: UserWarning: pandas only supports SQLAlchemy connectable (engine/connection) or database string URI or sqlite3 DBAPI2 connection. Other DBAPI2 objects are not tested. Please consider using SQLAlchemy.\n",
      "  pd.read_sql_query(query, conn)\n"
     ]
    },
    {
     "data": {
      "text/html": [
       "<div>\n",
       "<style scoped>\n",
       "    .dataframe tbody tr th:only-of-type {\n",
       "        vertical-align: middle;\n",
       "    }\n",
       "\n",
       "    .dataframe tbody tr th {\n",
       "        vertical-align: top;\n",
       "    }\n",
       "\n",
       "    .dataframe thead th {\n",
       "        text-align: right;\n",
       "    }\n",
       "</style>\n",
       "<table border=\"1\" class=\"dataframe\">\n",
       "  <thead>\n",
       "    <tr style=\"text-align: right;\">\n",
       "      <th></th>\n",
       "      <th>order_id</th>\n",
       "      <th>product</th>\n",
       "      <th>category</th>\n",
       "      <th>discount</th>\n",
       "    </tr>\n",
       "  </thead>\n",
       "  <tbody>\n",
       "    <tr>\n",
       "      <th>0</th>\n",
       "      <td>10991</td>\n",
       "      <td>Minnki Pälsii</td>\n",
       "      <td>Womens wear</td>\n",
       "      <td>7292.52</td>\n",
       "    </tr>\n",
       "  </tbody>\n",
       "</table>\n",
       "</div>"
      ],
      "text/plain": [
       "   order_id        product     category  discount\n",
       "0     10991  Minnki Pälsii  Womens wear   7292.52"
      ]
     },
     "execution_count": 26,
     "metadata": {},
     "output_type": "execute_result"
    }
   ],
   "source": [
    "query = \"\"\"\n",
    "    SELECT order_id, product, category, discount\n",
    "    FROM orders LEFT JOIN products ON orders.product_id=products.products_id\n",
    "        LEFT JOIN categories ON products.category_id=categories.category_id\n",
    "    WHERE discount = (SELECT MAX(discount) FROM orders)\n",
    "\"\"\"\n",
    "pd.read_sql_query(query, conn)"
   ]
  },
  {
   "cell_type": "markdown",
   "id": "63ea3d8d-66bb-47b2-a30e-1f54766faa5c",
   "metadata": {},
   "source": [
    "Как мы видим категория относится к женской одежде, проверим, связана ли эта скидка на самую большую покупку"
   ]
  },
  {
   "cell_type": "code",
   "execution_count": 27,
   "id": "2a5b7f8d-6a38-417e-b436-300f8edd7848",
   "metadata": {
    "tags": []
   },
   "outputs": [
    {
     "name": "stderr",
     "output_type": "stream",
     "text": [
      "/tmp/ipykernel_72/702817397.py:10: UserWarning: pandas only supports SQLAlchemy connectable (engine/connection) or database string URI or sqlite3 DBAPI2 connection. Other DBAPI2 objects are not tested. Please consider using SQLAlchemy.\n",
      "  pd.read_sql_query(query, conn)\n"
     ]
    },
    {
     "data": {
      "text/html": [
       "<div>\n",
       "<style scoped>\n",
       "    .dataframe tbody tr th:only-of-type {\n",
       "        vertical-align: middle;\n",
       "    }\n",
       "\n",
       "    .dataframe tbody tr th {\n",
       "        vertical-align: top;\n",
       "    }\n",
       "\n",
       "    .dataframe thead th {\n",
       "        text-align: right;\n",
       "    }\n",
       "</style>\n",
       "<table border=\"1\" class=\"dataframe\">\n",
       "  <thead>\n",
       "    <tr style=\"text-align: right;\">\n",
       "      <th></th>\n",
       "      <th>discount</th>\n",
       "      <th>sales</th>\n",
       "      <th>flag</th>\n",
       "    </tr>\n",
       "  </thead>\n",
       "  <tbody>\n",
       "    <tr>\n",
       "      <th>0</th>\n",
       "      <td>180.80</td>\n",
       "      <td>1084.80</td>\n",
       "      <td>0</td>\n",
       "    </tr>\n",
       "    <tr>\n",
       "      <th>1</th>\n",
       "      <td>119.36</td>\n",
       "      <td>716.16</td>\n",
       "      <td>0</td>\n",
       "    </tr>\n",
       "    <tr>\n",
       "      <th>2</th>\n",
       "      <td>7292.52</td>\n",
       "      <td>43755.12</td>\n",
       "      <td>1</td>\n",
       "    </tr>\n",
       "  </tbody>\n",
       "</table>\n",
       "</div>"
      ],
      "text/plain": [
       "   discount     sales  flag\n",
       "0    180.80   1084.80     0\n",
       "1    119.36    716.16     0\n",
       "2   7292.52  43755.12     1"
      ]
     },
     "execution_count": 27,
     "metadata": {},
     "output_type": "execute_result"
    }
   ],
   "source": [
    "query = \"\"\"\n",
    "    SELECT discount, sales,\n",
    "        CASE\n",
    "            WHEN sales = (SELECT MAX(sales) FROM orders)\n",
    "            THEN 1 ELSE 0\n",
    "        END AS flag\n",
    "    FROM orders\n",
    "    WHERE order_id=10991 \n",
    "\"\"\"\n",
    "pd.read_sql_query(query, conn)"
   ]
  },
  {
   "cell_type": "markdown",
   "id": "2edac864-66cf-49ed-938a-bf7f998fa32c",
   "metadata": {},
   "source": [
    "Да, наше предположение подтвердилось!"
   ]
  },
  {
   "cell_type": "markdown",
   "id": "72cc1c47-5226-4aec-b996-5412db94cf73",
   "metadata": {},
   "source": [
    "#### 7. Выведем продажи по кварталам и годам"
   ]
  },
  {
   "cell_type": "code",
   "execution_count": 30,
   "id": "32ddb416-ad56-4211-8bcb-e706801302b0",
   "metadata": {
    "tags": []
   },
   "outputs": [
    {
     "name": "stderr",
     "output_type": "stream",
     "text": [
      "/tmp/ipykernel_72/1959352242.py:7: UserWarning: pandas only supports SQLAlchemy connectable (engine/connection) or database string URI or sqlite3 DBAPI2 connection. Other DBAPI2 objects are not tested. Please consider using SQLAlchemy.\n",
      "  data = pd.read_sql_query(query, conn)\n"
     ]
    }
   ],
   "source": [
    "query = \"\"\"\n",
    "    SELECT EXTRACT(YEAR FROM order_date) AS Year,EXTRACT(QUARTER FROM order_date) AS Quarter, SUM(sales)\n",
    "    FROM orders\n",
    "    GROUP BY EXTRACT(YEAR FROM order_date), EXTRACT(QUARTER FROM order_date)\n",
    "    ORDER BY 1 ASC, 2 ASC\n",
    "\"\"\"\n",
    "data = pd.read_sql_query(query, conn)"
   ]
  },
  {
   "cell_type": "code",
   "execution_count": 31,
   "id": "9413c721-e546-4f21-a813-09eda6805fa0",
   "metadata": {
    "tags": []
   },
   "outputs": [
    {
     "name": "stdout",
     "output_type": "stream",
     "text": [
      "      year  quarter        sum\n",
      "0   2009.0      3.0    6847.86\n",
      "1   2009.0      4.0    9045.76\n",
      "2   2010.0      1.0   50065.74\n",
      "3   2010.0      2.0   68423.47\n",
      "4   2010.0      3.0   90102.28\n",
      "5   2010.0      4.0   44952.70\n",
      "6   2011.0      1.0  140564.70\n",
      "7   2011.0      2.0  108707.39\n",
      "8   2011.0      3.0  128993.42\n",
      "9   2011.0      4.0  135753.78\n",
      "10  2012.0      1.0  224965.41\n",
      "11  2012.0      2.0  249014.49\n",
      "12  2012.0      3.0  203452.82\n",
      "13  2012.0      4.0  175126.24\n",
      "14  2013.0      1.0  147131.86\n"
     ]
    }
   ],
   "source": [
    "print(data)"
   ]
  },
  {
   "cell_type": "markdown",
   "id": "32bcb21b-9046-4497-a61f-8c0b2a706a0c",
   "metadata": {},
   "source": [
    "Выполним визуализацию данных"
   ]
  },
  {
   "cell_type": "code",
   "execution_count": 36,
   "id": "570c8602-6439-4128-a6f8-d51e5b468527",
   "metadata": {
    "tags": []
   },
   "outputs": [
    {
     "data": {
      "text/plain": [
       "[Text(0.5, 0, 'year'), Text(0, 0.5, 'sales')]"
      ]
     },
     "execution_count": 36,
     "metadata": {},
     "output_type": "execute_result"
    },
    {
     "data": {
      "image/png": "[encoded data removed]",
      "text/plain": [
       "<Figure size 640x480 with 1 Axes>"
      ]
     },
     "metadata": {},
     "output_type": "display_data"
    }
   ],
   "source": [
    "g = sns.barplot(data=data, x=\"year\", y=\"sum\", hue=\"quarter\")\n",
    "g.set(xlabel=\"year\", ylabel=\"sales\")"
   ]
  },
  {
   "cell_type": "markdown",
   "id": "7a063617-b1fa-4674-868b-e89e0e1e5b28",
   "metadata": {},
   "source": [
    "Как мы можем видить, что динамик продаж от года к году растет, однако сделать вывод о сезонности продаж нельзя."
   ]
  },
  {
   "cell_type": "markdown",
   "id": "f6d34b33-bfb2-4c4e-a17c-c8c89b1971b7",
   "metadata": {},
   "source": [
    "#### 8. Вывести лучшего работника по продажам в разрезе по годам и его продажи"
   ]
  },
  {
   "cell_type": "code",
   "execution_count": 38,
   "id": "e01b186e-c236-47c6-94c2-6f1717e9a522",
   "metadata": {
    "tags": []
   },
   "outputs": [
    {
     "name": "stderr",
     "output_type": "stream",
     "text": [
      "/tmp/ipykernel_72/3380238401.py:18: UserWarning: pandas only supports SQLAlchemy connectable (engine/connection) or database string URI or sqlite3 DBAPI2 connection. Other DBAPI2 objects are not tested. Please consider using SQLAlchemy.\n",
      "  pd.read_sql_query(query, conn)\n"
     ]
    },
    {
     "data": {
      "text/html": [
       "<div>\n",
       "<style scoped>\n",
       "    .dataframe tbody tr th:only-of-type {\n",
       "        vertical-align: middle;\n",
       "    }\n",
       "\n",
       "    .dataframe tbody tr th {\n",
       "        vertical-align: top;\n",
       "    }\n",
       "\n",
       "    .dataframe thead th {\n",
       "        text-align: right;\n",
       "    }\n",
       "</style>\n",
       "<table border=\"1\" class=\"dataframe\">\n",
       "  <thead>\n",
       "    <tr style=\"text-align: right;\">\n",
       "      <th></th>\n",
       "      <th>year</th>\n",
       "      <th>name</th>\n",
       "      <th>sales</th>\n",
       "    </tr>\n",
       "  </thead>\n",
       "  <tbody>\n",
       "    <tr>\n",
       "      <th>0</th>\n",
       "      <td>2009.0</td>\n",
       "      <td>Sien Perslay</td>\n",
       "      <td>9248.96</td>\n",
       "    </tr>\n",
       "    <tr>\n",
       "      <th>1</th>\n",
       "      <td>2010.0</td>\n",
       "      <td>Rock Roll</td>\n",
       "      <td>60192.28</td>\n",
       "    </tr>\n",
       "    <tr>\n",
       "      <th>2</th>\n",
       "      <td>2011.0</td>\n",
       "      <td>Rob Carsson</td>\n",
       "      <td>135808.71</td>\n",
       "    </tr>\n",
       "    <tr>\n",
       "      <th>3</th>\n",
       "      <td>2012.0</td>\n",
       "      <td>Tom Lindwall</td>\n",
       "      <td>160181.80</td>\n",
       "    </tr>\n",
       "    <tr>\n",
       "      <th>4</th>\n",
       "      <td>2013.0</td>\n",
       "      <td>Helen Brolin</td>\n",
       "      <td>37982.43</td>\n",
       "    </tr>\n",
       "  </tbody>\n",
       "</table>\n",
       "</div>"
      ],
      "text/plain": [
       "     year          name      sales\n",
       "0  2009.0  Sien Perslay    9248.96\n",
       "1  2010.0     Rock Roll   60192.28\n",
       "2  2011.0   Rob Carsson  135808.71\n",
       "3  2012.0  Tom Lindwall  160181.80\n",
       "4  2013.0  Helen Brolin   37982.43"
      ]
     },
     "execution_count": 38,
     "metadata": {},
     "output_type": "execute_result"
    }
   ],
   "source": [
    "query = \"\"\"\n",
    "WITH sales_per_year AS (\n",
    "  SELECT EXTRACT(YEAR FROM order_date) AS year, employee_name AS name, SUM(sales) AS sales\n",
    "  FROM orders LEFT JOIN employees ON orders.employee_id = employees.employee_id \n",
    "  GROUP BY EXTRACT(YEAR FROM order_date), employee_name\n",
    "  ORDER BY 1, 3 DESC\n",
    "),\n",
    "n_row_sales AS (\n",
    "  SELECT year, name, sales,\n",
    "    ROW_NUMBER() OVER(partition by year) AS n_row\n",
    "  FROM sales_per_year\n",
    ")\n",
    "\n",
    "SELECT year, name, sales\n",
    "FROM n_row_sales\n",
    "WHERE n_row = 1\n",
    "\"\"\"\n",
    "pd.read_sql_query(query, conn)"
   ]
  },
  {
   "cell_type": "markdown",
   "id": "d41d5bf0-a427-46f0-81b2-cfc39297b4ca",
   "metadata": {},
   "source": [
    "#### 9. Вывести топ 5 категорий и информацию о заказе и товаре, на которые была самая большая скидка\n"
   ]
  },
  {
   "cell_type": "code",
   "execution_count": 39,
   "id": "1bd60f77-7edd-4fc2-abff-645bba805eb0",
   "metadata": {
    "tags": []
   },
   "outputs": [
    {
     "name": "stderr",
     "output_type": "stream",
     "text": [
      "/tmp/ipykernel_72/2719813932.py:21: UserWarning: pandas only supports SQLAlchemy connectable (engine/connection) or database string URI or sqlite3 DBAPI2 connection. Other DBAPI2 objects are not tested. Please consider using SQLAlchemy.\n",
      "  pd.read_sql_query(query, conn)\n"
     ]
    },
    {
     "data": {
      "text/html": [
       "<div>\n",
       "<style scoped>\n",
       "    .dataframe tbody tr th:only-of-type {\n",
       "        vertical-align: middle;\n",
       "    }\n",
       "\n",
       "    .dataframe tbody tr th {\n",
       "        vertical-align: top;\n",
       "    }\n",
       "\n",
       "    .dataframe thead th {\n",
       "        text-align: right;\n",
       "    }\n",
       "</style>\n",
       "<table border=\"1\" class=\"dataframe\">\n",
       "  <thead>\n",
       "    <tr style=\"text-align: right;\">\n",
       "      <th></th>\n",
       "      <th>order_id</th>\n",
       "      <th>order_date</th>\n",
       "      <th>employee_name</th>\n",
       "      <th>product</th>\n",
       "      <th>category</th>\n",
       "      <th>discount</th>\n",
       "    </tr>\n",
       "  </thead>\n",
       "  <tbody>\n",
       "    <tr>\n",
       "      <th>0</th>\n",
       "      <td>10646</td>\n",
       "      <td>2012-01-23</td>\n",
       "      <td>Rob Carsson</td>\n",
       "      <td>Skirt</td>\n",
       "      <td>Womens wear</td>\n",
       "      <td>115.24</td>\n",
       "    </tr>\n",
       "    <tr>\n",
       "      <th>1</th>\n",
       "      <td>10991</td>\n",
       "      <td>2012-06-29</td>\n",
       "      <td>Leif Shine</td>\n",
       "      <td>Minnki Pälsii</td>\n",
       "      <td>Womens wear</td>\n",
       "      <td>7292.52</td>\n",
       "    </tr>\n",
       "    <tr>\n",
       "      <th>2</th>\n",
       "      <td>11081</td>\n",
       "      <td>2013-03-13</td>\n",
       "      <td>Rock Roll</td>\n",
       "      <td>Bow tie</td>\n",
       "      <td>Men´s Clothes</td>\n",
       "      <td>105.75</td>\n",
       "    </tr>\n",
       "    <tr>\n",
       "      <th>3</th>\n",
       "      <td>10263</td>\n",
       "      <td>2012-10-20</td>\n",
       "      <td>Tom Lindwall</td>\n",
       "      <td>Nikee Running Shoes</td>\n",
       "      <td>Children´s wear</td>\n",
       "      <td>250.83</td>\n",
       "    </tr>\n",
       "    <tr>\n",
       "      <th>4</th>\n",
       "      <td>10627</td>\n",
       "      <td>2011-11-07</td>\n",
       "      <td>Tom Lindwall</td>\n",
       "      <td>Mehmet-Napp</td>\n",
       "      <td>Babywear</td>\n",
       "      <td>6.20</td>\n",
       "    </tr>\n",
       "  </tbody>\n",
       "</table>\n",
       "</div>"
      ],
      "text/plain": [
       "   order_id  order_date employee_name              product         category  \\\n",
       "0     10646  2012-01-23   Rob Carsson                Skirt      Womens wear   \n",
       "1     10991  2012-06-29    Leif Shine        Minnki Pälsii      Womens wear   \n",
       "2     11081  2013-03-13     Rock Roll              Bow tie    Men´s Clothes   \n",
       "3     10263  2012-10-20  Tom Lindwall  Nikee Running Shoes  Children´s wear   \n",
       "4     10627  2011-11-07  Tom Lindwall          Mehmet-Napp         Babywear   \n",
       "\n",
       "   discount  \n",
       "0    115.24  \n",
       "1   7292.52  \n",
       "2    105.75  \n",
       "3    250.83  \n",
       "4      6.20  "
      ]
     },
     "execution_count": 39,
     "metadata": {},
     "output_type": "execute_result"
    }
   ],
   "source": [
    "query = \"\"\"\n",
    "WITH disconts AS (\n",
    "  SELECT order_id, order_date, employee_id, product_id, discount, \n",
    "    MAX(discount) OVER(partition by produc) AS max_discount\n",
    "  FROM orders\n",
    "),\n",
    "top5_discount AS (\n",
    "  SELECT order_id, order_date, employee_id, product_id, discount\n",
    "  FROM disconts\n",
    "  WHERE discount = max_discount\n",
    "  ORDER BY 4 DESC\n",
    "  LIMIT 5\n",
    ")\n",
    "\n",
    "SELECT order_id, order_date, employee_name, product, category, discount\n",
    "FROM top5_discount LEFT JOIN employees USING(employee_id)\n",
    "  LEFT JOIN products ON top5_discount.product_id = products.products_id\n",
    "  LEFT JOIN categories ON products.category_id=categories.category_id\n",
    "ORDER BY 5 DESC\n",
    "\"\"\"\n",
    "pd.read_sql_query(query, conn)"
   ]
  },
  {
   "cell_type": "markdown",
   "id": "94248dab-10e7-4c7b-82ab-6f0ad37e2fa4",
   "metadata": {},
   "source": [
    "#### 10. Вывести количество уникальных покупателей по годам"
   ]
  },
  {
   "cell_type": "code",
   "execution_count": 40,
   "id": "a9d67253-cebe-43d1-88f1-aede07bc4ddc",
   "metadata": {
    "tags": []
   },
   "outputs": [
    {
     "name": "stderr",
     "output_type": "stream",
     "text": [
      "/tmp/ipykernel_72/2121064478.py:6: UserWarning: pandas only supports SQLAlchemy connectable (engine/connection) or database string URI or sqlite3 DBAPI2 connection. Other DBAPI2 objects are not tested. Please consider using SQLAlchemy.\n",
      "  pd.read_sql_query(query, conn)\n"
     ]
    },
    {
     "data": {
      "text/html": [
       "<div>\n",
       "<style scoped>\n",
       "    .dataframe tbody tr th:only-of-type {\n",
       "        vertical-align: middle;\n",
       "    }\n",
       "\n",
       "    .dataframe tbody tr th {\n",
       "        vertical-align: top;\n",
       "    }\n",
       "\n",
       "    .dataframe thead th {\n",
       "        text-align: right;\n",
       "    }\n",
       "</style>\n",
       "<table border=\"1\" class=\"dataframe\">\n",
       "  <thead>\n",
       "    <tr style=\"text-align: right;\">\n",
       "      <th></th>\n",
       "      <th>year</th>\n",
       "      <th>count</th>\n",
       "    </tr>\n",
       "  </thead>\n",
       "  <tbody>\n",
       "    <tr>\n",
       "      <th>0</th>\n",
       "      <td>2009.0</td>\n",
       "      <td>11</td>\n",
       "    </tr>\n",
       "    <tr>\n",
       "      <th>1</th>\n",
       "      <td>2010.0</td>\n",
       "      <td>55</td>\n",
       "    </tr>\n",
       "    <tr>\n",
       "      <th>2</th>\n",
       "      <td>2011.0</td>\n",
       "      <td>64</td>\n",
       "    </tr>\n",
       "    <tr>\n",
       "      <th>3</th>\n",
       "      <td>2012.0</td>\n",
       "      <td>82</td>\n",
       "    </tr>\n",
       "    <tr>\n",
       "      <th>4</th>\n",
       "      <td>2013.0</td>\n",
       "      <td>36</td>\n",
       "    </tr>\n",
       "  </tbody>\n",
       "</table>\n",
       "</div>"
      ],
      "text/plain": [
       "     year  count\n",
       "0  2009.0     11\n",
       "1  2010.0     55\n",
       "2  2011.0     64\n",
       "3  2012.0     82\n",
       "4  2013.0     36"
      ]
     },
     "execution_count": 40,
     "metadata": {},
     "output_type": "execute_result"
    }
   ],
   "source": [
    "query = \"\"\"\n",
    "SELECT EXTRACT(YEAR FROM order_date) AS Year, COUNT(DISTINCT customer_id)\n",
    "FROM orders\n",
    "GROUP BY EXTRACT(YEAR FROM order_date)\n",
    "\"\"\"\n",
    "pd.read_sql_query(query, conn)"
   ]
  },
  {
   "cell_type": "markdown",
   "id": "73a4bb2a-ec77-480e-8469-a7bc10148472",
   "metadata": {},
   "source": [
    "Как мы видим, количество уникальны покупателей растет каждый год"
   ]
  },
  {
   "cell_type": "markdown",
   "id": "4668c496-d0b8-4c59-80aa-94fcbefee257",
   "metadata": {},
   "source": [
    "#### 10. Вывести покупки каждого покупателя"
   ]
  },
  {
   "cell_type": "code",
   "execution_count": 41,
   "id": "d6540377-4978-4928-9b79-70a5470a8076",
   "metadata": {
    "tags": []
   },
   "outputs": [
    {
     "name": "stderr",
     "output_type": "stream",
     "text": [
      "/tmp/ipykernel_72/3853883949.py:7: UserWarning: pandas only supports SQLAlchemy connectable (engine/connection) or database string URI or sqlite3 DBAPI2 connection. Other DBAPI2 objects are not tested. Please consider using SQLAlchemy.\n",
      "  pd.read_sql_query(query, conn)\n"
     ]
    },
    {
     "data": {
      "text/html": [
       "<div>\n",
       "<style scoped>\n",
       "    .dataframe tbody tr th:only-of-type {\n",
       "        vertical-align: middle;\n",
       "    }\n",
       "\n",
       "    .dataframe tbody tr th {\n",
       "        vertical-align: top;\n",
       "    }\n",
       "\n",
       "    .dataframe thead th {\n",
       "        text-align: right;\n",
       "    }\n",
       "</style>\n",
       "<table border=\"1\" class=\"dataframe\">\n",
       "  <thead>\n",
       "    <tr style=\"text-align: right;\">\n",
       "      <th></th>\n",
       "      <th>customer_id</th>\n",
       "      <th>Количество_покупок</th>\n",
       "    </tr>\n",
       "  </thead>\n",
       "  <tbody>\n",
       "    <tr>\n",
       "      <th>0</th>\n",
       "      <td>1</td>\n",
       "      <td>82</td>\n",
       "    </tr>\n",
       "    <tr>\n",
       "      <th>1</th>\n",
       "      <td>2</td>\n",
       "      <td>10</td>\n",
       "    </tr>\n",
       "    <tr>\n",
       "      <th>2</th>\n",
       "      <td>3</td>\n",
       "      <td>17</td>\n",
       "    </tr>\n",
       "    <tr>\n",
       "      <th>3</th>\n",
       "      <td>4</td>\n",
       "      <td>8</td>\n",
       "    </tr>\n",
       "    <tr>\n",
       "      <th>4</th>\n",
       "      <td>5</td>\n",
       "      <td>52</td>\n",
       "    </tr>\n",
       "    <tr>\n",
       "      <th>...</th>\n",
       "      <td>...</td>\n",
       "      <td>...</td>\n",
       "    </tr>\n",
       "    <tr>\n",
       "      <th>85</th>\n",
       "      <td>88</td>\n",
       "      <td>1</td>\n",
       "    </tr>\n",
       "    <tr>\n",
       "      <th>86</th>\n",
       "      <td>89</td>\n",
       "      <td>40</td>\n",
       "    </tr>\n",
       "    <tr>\n",
       "      <th>87</th>\n",
       "      <td>90</td>\n",
       "      <td>3</td>\n",
       "    </tr>\n",
       "    <tr>\n",
       "      <th>88</th>\n",
       "      <td>91</td>\n",
       "      <td>16</td>\n",
       "    </tr>\n",
       "    <tr>\n",
       "      <th>89</th>\n",
       "      <td>127</td>\n",
       "      <td>8</td>\n",
       "    </tr>\n",
       "  </tbody>\n",
       "</table>\n",
       "<p>90 rows × 2 columns</p>\n",
       "</div>"
      ],
      "text/plain": [
       "    customer_id  Количество_покупок\n",
       "0             1                  82\n",
       "1             2                  10\n",
       "2             3                  17\n",
       "3             4                   8\n",
       "4             5                  52\n",
       "..          ...                 ...\n",
       "85           88                   1\n",
       "86           89                  40\n",
       "87           90                   3\n",
       "88           91                  16\n",
       "89          127                   8\n",
       "\n",
       "[90 rows x 2 columns]"
      ]
     },
     "execution_count": 41,
     "metadata": {},
     "output_type": "execute_result"
    }
   ],
   "source": [
    "query = \"\"\"\n",
    "    SELECT customer_id, COUNT(order_id) AS Количество_покупок\n",
    "FROM orders\n",
    "GROUP BY customer_id \n",
    "ORDER BY 1\n",
    "\"\"\"\n",
    "pd.read_sql_query(query, conn)"
   ]
  },
  {
   "cell_type": "markdown",
   "id": "464dde35-1412-4863-b42c-e7612e97a09a",
   "metadata": {},
   "source": [
    "#### 11. Вывести сотрудников, и указать выполняет ли он план продаж по увеличению на 20% каждый "
   ]
  },
  {
   "cell_type": "code",
   "execution_count": 42,
   "id": "541a2bee-01b1-4037-aad7-0a42366229e7",
   "metadata": {
    "tags": []
   },
   "outputs": [
    {
     "name": "stderr",
     "output_type": "stream",
     "text": [
      "/tmp/ipykernel_72/3736089747.py:33: UserWarning: pandas only supports SQLAlchemy connectable (engine/connection) or database string URI or sqlite3 DBAPI2 connection. Other DBAPI2 objects are not tested. Please consider using SQLAlchemy.\n",
      "  pd.read_sql_query(query, conn)\n"
     ]
    },
    {
     "data": {
      "text/html": [
       "<div>\n",
       "<style scoped>\n",
       "    .dataframe tbody tr th:only-of-type {\n",
       "        vertical-align: middle;\n",
       "    }\n",
       "\n",
       "    .dataframe tbody tr th {\n",
       "        vertical-align: top;\n",
       "    }\n",
       "\n",
       "    .dataframe thead th {\n",
       "        text-align: right;\n",
       "    }\n",
       "</style>\n",
       "<table border=\"1\" class=\"dataframe\">\n",
       "  <thead>\n",
       "    <tr style=\"text-align: right;\">\n",
       "      <th></th>\n",
       "      <th>employee_name</th>\n",
       "      <th>year</th>\n",
       "      <th>sum_sales</th>\n",
       "      <th>prev_sales</th>\n",
       "      <th>diff_sales</th>\n",
       "      <th>check</th>\n",
       "    </tr>\n",
       "  </thead>\n",
       "  <tbody>\n",
       "    <tr>\n",
       "      <th>0</th>\n",
       "      <td>Helen Brolin</td>\n",
       "      <td>2010.0</td>\n",
       "      <td>31782.50</td>\n",
       "      <td>NaN</td>\n",
       "      <td>0.00</td>\n",
       "      <td>0</td>\n",
       "    </tr>\n",
       "    <tr>\n",
       "      <th>1</th>\n",
       "      <td>Helen Brolin</td>\n",
       "      <td>2011.0</td>\n",
       "      <td>59155.64</td>\n",
       "      <td>31782.50</td>\n",
       "      <td>86.13</td>\n",
       "      <td>1</td>\n",
       "    </tr>\n",
       "    <tr>\n",
       "      <th>2</th>\n",
       "      <td>Helen Brolin</td>\n",
       "      <td>2012.0</td>\n",
       "      <td>136018.06</td>\n",
       "      <td>59155.64</td>\n",
       "      <td>129.93</td>\n",
       "      <td>1</td>\n",
       "    </tr>\n",
       "    <tr>\n",
       "      <th>3</th>\n",
       "      <td>Helen Brolin</td>\n",
       "      <td>2013.0</td>\n",
       "      <td>37982.43</td>\n",
       "      <td>136018.06</td>\n",
       "      <td>-72.08</td>\n",
       "      <td>0</td>\n",
       "    </tr>\n",
       "    <tr>\n",
       "      <th>4</th>\n",
       "      <td>Ingrid Hendrix</td>\n",
       "      <td>2011.0</td>\n",
       "      <td>23858.02</td>\n",
       "      <td>NaN</td>\n",
       "      <td>0.00</td>\n",
       "      <td>0</td>\n",
       "    </tr>\n",
       "    <tr>\n",
       "      <th>5</th>\n",
       "      <td>Ingrid Hendrix</td>\n",
       "      <td>2012.0</td>\n",
       "      <td>49406.75</td>\n",
       "      <td>23858.02</td>\n",
       "      <td>107.09</td>\n",
       "      <td>1</td>\n",
       "    </tr>\n",
       "    <tr>\n",
       "      <th>6</th>\n",
       "      <td>Ingrid Hendrix</td>\n",
       "      <td>2013.0</td>\n",
       "      <td>10933.17</td>\n",
       "      <td>49406.75</td>\n",
       "      <td>-77.87</td>\n",
       "      <td>0</td>\n",
       "    </tr>\n",
       "    <tr>\n",
       "      <th>7</th>\n",
       "      <td>Joan Callins</td>\n",
       "      <td>2010.0</td>\n",
       "      <td>17536.74</td>\n",
       "      <td>NaN</td>\n",
       "      <td>0.00</td>\n",
       "      <td>0</td>\n",
       "    </tr>\n",
       "    <tr>\n",
       "      <th>8</th>\n",
       "      <td>Joan Callins</td>\n",
       "      <td>2011.0</td>\n",
       "      <td>43319.17</td>\n",
       "      <td>17536.74</td>\n",
       "      <td>147.02</td>\n",
       "      <td>1</td>\n",
       "    </tr>\n",
       "    <tr>\n",
       "      <th>9</th>\n",
       "      <td>Joan Callins</td>\n",
       "      <td>2012.0</td>\n",
       "      <td>29776.30</td>\n",
       "      <td>43319.17</td>\n",
       "      <td>-31.26</td>\n",
       "      <td>0</td>\n",
       "    </tr>\n",
       "    <tr>\n",
       "      <th>10</th>\n",
       "      <td>Joan Callins</td>\n",
       "      <td>2013.0</td>\n",
       "      <td>8949.41</td>\n",
       "      <td>29776.30</td>\n",
       "      <td>-69.94</td>\n",
       "      <td>0</td>\n",
       "    </tr>\n",
       "    <tr>\n",
       "      <th>11</th>\n",
       "      <td>Leif Shine</td>\n",
       "      <td>2009.0</td>\n",
       "      <td>4599.00</td>\n",
       "      <td>NaN</td>\n",
       "      <td>0.00</td>\n",
       "      <td>0</td>\n",
       "    </tr>\n",
       "    <tr>\n",
       "      <th>12</th>\n",
       "      <td>Leif Shine</td>\n",
       "      <td>2010.0</td>\n",
       "      <td>49657.53</td>\n",
       "      <td>4599.00</td>\n",
       "      <td>979.75</td>\n",
       "      <td>1</td>\n",
       "    </tr>\n",
       "    <tr>\n",
       "      <th>13</th>\n",
       "      <td>Leif Shine</td>\n",
       "      <td>2011.0</td>\n",
       "      <td>38937.01</td>\n",
       "      <td>49657.53</td>\n",
       "      <td>-21.59</td>\n",
       "      <td>0</td>\n",
       "    </tr>\n",
       "    <tr>\n",
       "      <th>14</th>\n",
       "      <td>Leif Shine</td>\n",
       "      <td>2012.0</td>\n",
       "      <td>158533.45</td>\n",
       "      <td>38937.01</td>\n",
       "      <td>307.15</td>\n",
       "      <td>1</td>\n",
       "    </tr>\n",
       "    <tr>\n",
       "      <th>15</th>\n",
       "      <td>Leif Shine</td>\n",
       "      <td>2013.0</td>\n",
       "      <td>5411.30</td>\n",
       "      <td>158533.45</td>\n",
       "      <td>-96.59</td>\n",
       "      <td>0</td>\n",
       "    </tr>\n",
       "    <tr>\n",
       "      <th>16</th>\n",
       "      <td>Lennart Skoglund</td>\n",
       "      <td>2009.0</td>\n",
       "      <td>822.10</td>\n",
       "      <td>NaN</td>\n",
       "      <td>0.00</td>\n",
       "      <td>0</td>\n",
       "    </tr>\n",
       "    <tr>\n",
       "      <th>17</th>\n",
       "      <td>Lennart Skoglund</td>\n",
       "      <td>2010.0</td>\n",
       "      <td>18780.28</td>\n",
       "      <td>822.10</td>\n",
       "      <td>2184.43</td>\n",
       "      <td>1</td>\n",
       "    </tr>\n",
       "    <tr>\n",
       "      <th>18</th>\n",
       "      <td>Lennart Skoglund</td>\n",
       "      <td>2011.0</td>\n",
       "      <td>38044.67</td>\n",
       "      <td>18780.28</td>\n",
       "      <td>102.58</td>\n",
       "      <td>1</td>\n",
       "    </tr>\n",
       "    <tr>\n",
       "      <th>19</th>\n",
       "      <td>Lennart Skoglund</td>\n",
       "      <td>2012.0</td>\n",
       "      <td>37160.87</td>\n",
       "      <td>38044.67</td>\n",
       "      <td>-2.32</td>\n",
       "      <td>0</td>\n",
       "    </tr>\n",
       "    <tr>\n",
       "      <th>20</th>\n",
       "      <td>Lennart Skoglund</td>\n",
       "      <td>2013.0</td>\n",
       "      <td>23147.31</td>\n",
       "      <td>37160.87</td>\n",
       "      <td>-37.71</td>\n",
       "      <td>0</td>\n",
       "    </tr>\n",
       "    <tr>\n",
       "      <th>21</th>\n",
       "      <td>Rob Carsson</td>\n",
       "      <td>2009.0</td>\n",
       "      <td>1223.56</td>\n",
       "      <td>NaN</td>\n",
       "      <td>0.00</td>\n",
       "      <td>0</td>\n",
       "    </tr>\n",
       "    <tr>\n",
       "      <th>22</th>\n",
       "      <td>Rob Carsson</td>\n",
       "      <td>2010.0</td>\n",
       "      <td>53855.56</td>\n",
       "      <td>1223.56</td>\n",
       "      <td>4301.55</td>\n",
       "      <td>1</td>\n",
       "    </tr>\n",
       "    <tr>\n",
       "      <th>23</th>\n",
       "      <td>Rob Carsson</td>\n",
       "      <td>2011.0</td>\n",
       "      <td>135808.71</td>\n",
       "      <td>53855.56</td>\n",
       "      <td>152.17</td>\n",
       "      <td>1</td>\n",
       "    </tr>\n",
       "    <tr>\n",
       "      <th>24</th>\n",
       "      <td>Rob Carsson</td>\n",
       "      <td>2012.0</td>\n",
       "      <td>138984.50</td>\n",
       "      <td>135808.71</td>\n",
       "      <td>2.34</td>\n",
       "      <td>0</td>\n",
       "    </tr>\n",
       "    <tr>\n",
       "      <th>25</th>\n",
       "      <td>Rob Carsson</td>\n",
       "      <td>2013.0</td>\n",
       "      <td>26186.16</td>\n",
       "      <td>138984.50</td>\n",
       "      <td>-81.16</td>\n",
       "      <td>0</td>\n",
       "    </tr>\n",
       "    <tr>\n",
       "      <th>26</th>\n",
       "      <td>Rock Roll</td>\n",
       "      <td>2010.0</td>\n",
       "      <td>60192.28</td>\n",
       "      <td>NaN</td>\n",
       "      <td>0.00</td>\n",
       "      <td>0</td>\n",
       "    </tr>\n",
       "    <tr>\n",
       "      <th>27</th>\n",
       "      <td>Rock Roll</td>\n",
       "      <td>2011.0</td>\n",
       "      <td>74529.77</td>\n",
       "      <td>60192.28</td>\n",
       "      <td>23.82</td>\n",
       "      <td>1</td>\n",
       "    </tr>\n",
       "    <tr>\n",
       "      <th>28</th>\n",
       "      <td>Rock Roll</td>\n",
       "      <td>2012.0</td>\n",
       "      <td>119665.10</td>\n",
       "      <td>74529.77</td>\n",
       "      <td>60.56</td>\n",
       "      <td>1</td>\n",
       "    </tr>\n",
       "    <tr>\n",
       "      <th>29</th>\n",
       "      <td>Rock Roll</td>\n",
       "      <td>2013.0</td>\n",
       "      <td>13459.26</td>\n",
       "      <td>119665.10</td>\n",
       "      <td>-88.75</td>\n",
       "      <td>0</td>\n",
       "    </tr>\n",
       "    <tr>\n",
       "      <th>30</th>\n",
       "      <td>Sien Perslay</td>\n",
       "      <td>2009.0</td>\n",
       "      <td>9248.96</td>\n",
       "      <td>NaN</td>\n",
       "      <td>0.00</td>\n",
       "      <td>0</td>\n",
       "    </tr>\n",
       "    <tr>\n",
       "      <th>31</th>\n",
       "      <td>Sien Perslay</td>\n",
       "      <td>2010.0</td>\n",
       "      <td>20387.85</td>\n",
       "      <td>9248.96</td>\n",
       "      <td>120.43</td>\n",
       "      <td>1</td>\n",
       "    </tr>\n",
       "    <tr>\n",
       "      <th>32</th>\n",
       "      <td>Sien Perslay</td>\n",
       "      <td>2011.0</td>\n",
       "      <td>16496.53</td>\n",
       "      <td>20387.85</td>\n",
       "      <td>-19.09</td>\n",
       "      <td>0</td>\n",
       "    </tr>\n",
       "    <tr>\n",
       "      <th>33</th>\n",
       "      <td>Sien Perslay</td>\n",
       "      <td>2012.0</td>\n",
       "      <td>22832.13</td>\n",
       "      <td>16496.53</td>\n",
       "      <td>38.41</td>\n",
       "      <td>1</td>\n",
       "    </tr>\n",
       "    <tr>\n",
       "      <th>34</th>\n",
       "      <td>Tom Lindwall</td>\n",
       "      <td>2010.0</td>\n",
       "      <td>1351.45</td>\n",
       "      <td>NaN</td>\n",
       "      <td>0.00</td>\n",
       "      <td>0</td>\n",
       "    </tr>\n",
       "    <tr>\n",
       "      <th>35</th>\n",
       "      <td>Tom Lindwall</td>\n",
       "      <td>2011.0</td>\n",
       "      <td>83869.77</td>\n",
       "      <td>1351.45</td>\n",
       "      <td>6105.91</td>\n",
       "      <td>1</td>\n",
       "    </tr>\n",
       "    <tr>\n",
       "      <th>36</th>\n",
       "      <td>Tom Lindwall</td>\n",
       "      <td>2012.0</td>\n",
       "      <td>160181.80</td>\n",
       "      <td>83869.77</td>\n",
       "      <td>90.99</td>\n",
       "      <td>1</td>\n",
       "    </tr>\n",
       "    <tr>\n",
       "      <th>37</th>\n",
       "      <td>Tom Lindwall</td>\n",
       "      <td>2013.0</td>\n",
       "      <td>21062.82</td>\n",
       "      <td>160181.80</td>\n",
       "      <td>-86.85</td>\n",
       "      <td>0</td>\n",
       "    </tr>\n",
       "  </tbody>\n",
       "</table>\n",
       "</div>"
      ],
      "text/plain": [
       "       employee_name    year  sum_sales  prev_sales  diff_sales  check\n",
       "0       Helen Brolin  2010.0   31782.50         NaN        0.00      0\n",
       "1       Helen Brolin  2011.0   59155.64    31782.50       86.13      1\n",
       "2       Helen Brolin  2012.0  136018.06    59155.64      129.93      1\n",
       "3       Helen Brolin  2013.0   37982.43   136018.06      -72.08      0\n",
       "4     Ingrid Hendrix  2011.0   23858.02         NaN        0.00      0\n",
       "5     Ingrid Hendrix  2012.0   49406.75    23858.02      107.09      1\n",
       "6     Ingrid Hendrix  2013.0   10933.17    49406.75      -77.87      0\n",
       "7       Joan Callins  2010.0   17536.74         NaN        0.00      0\n",
       "8       Joan Callins  2011.0   43319.17    17536.74      147.02      1\n",
       "9       Joan Callins  2012.0   29776.30    43319.17      -31.26      0\n",
       "10      Joan Callins  2013.0    8949.41    29776.30      -69.94      0\n",
       "11        Leif Shine  2009.0    4599.00         NaN        0.00      0\n",
       "12        Leif Shine  2010.0   49657.53     4599.00      979.75      1\n",
       "13        Leif Shine  2011.0   38937.01    49657.53      -21.59      0\n",
       "14        Leif Shine  2012.0  158533.45    38937.01      307.15      1\n",
       "15        Leif Shine  2013.0    5411.30   158533.45      -96.59      0\n",
       "16  Lennart Skoglund  2009.0     822.10         NaN        0.00      0\n",
       "17  Lennart Skoglund  2010.0   18780.28      822.10     2184.43      1\n",
       "18  Lennart Skoglund  2011.0   38044.67    18780.28      102.58      1\n",
       "19  Lennart Skoglund  2012.0   37160.87    38044.67       -2.32      0\n",
       "20  Lennart Skoglund  2013.0   23147.31    37160.87      -37.71      0\n",
       "21       Rob Carsson  2009.0    1223.56         NaN        0.00      0\n",
       "22       Rob Carsson  2010.0   53855.56     1223.56     4301.55      1\n",
       "23       Rob Carsson  2011.0  135808.71    53855.56      152.17      1\n",
       "24       Rob Carsson  2012.0  138984.50   135808.71        2.34      0\n",
       "25       Rob Carsson  2013.0   26186.16   138984.50      -81.16      0\n",
       "26         Rock Roll  2010.0   60192.28         NaN        0.00      0\n",
       "27         Rock Roll  2011.0   74529.77    60192.28       23.82      1\n",
       "28         Rock Roll  2012.0  119665.10    74529.77       60.56      1\n",
       "29         Rock Roll  2013.0   13459.26   119665.10      -88.75      0\n",
       "30      Sien Perslay  2009.0    9248.96         NaN        0.00      0\n",
       "31      Sien Perslay  2010.0   20387.85     9248.96      120.43      1\n",
       "32      Sien Perslay  2011.0   16496.53    20387.85      -19.09      0\n",
       "33      Sien Perslay  2012.0   22832.13    16496.53       38.41      1\n",
       "34      Tom Lindwall  2010.0    1351.45         NaN        0.00      0\n",
       "35      Tom Lindwall  2011.0   83869.77     1351.45     6105.91      1\n",
       "36      Tom Lindwall  2012.0  160181.80    83869.77       90.99      1\n",
       "37      Tom Lindwall  2013.0   21062.82   160181.80      -86.85      0"
      ]
     },
     "execution_count": 42,
     "metadata": {},
     "output_type": "execute_result"
    }
   ],
   "source": [
    "query = \"\"\"\n",
    "WITH q1 AS (\n",
    "  SELECT employee_id, EXTRACT(YEAR FROM order_date) AS Year, SUM(sales) as sum_sales\n",
    "  FROM orders\n",
    "  GROUP BY employee_id, EXTRACT(YEAR FROM order_date)\n",
    "  ORDER BY 1, 2\n",
    "),\n",
    "q2 AS (\n",
    "  SELECT employee_id, Year, sum_sales,\n",
    "    LAG(sum_sales) OVER(partition by employee_id) AS prev_sales\n",
    "  FROM q1\n",
    "),\n",
    "q3 AS (\n",
    "  SELECT employee_id, Year, sum_sales, prev_sales,\n",
    "  CASE \n",
    "    WHEN prev_sales IS NOT NULL\n",
    "      THEN ROUND(((sum_sales-prev_sales) / prev_sales) * 100, 2)\n",
    "      ELSE 0\n",
    "  END AS diff_sales\n",
    "FROM q2\n",
    ")\n",
    "\n",
    "SELECT employee_name, year, sum_sales, prev_sales, diff_sales,\n",
    "  CASE \n",
    "    WHEN diff_sales > 20\n",
    "      THEN 1\n",
    "      ELSE 0\n",
    "  END AS check\n",
    "FROM q3 LEFT JOIN employees ON q3.employee_id = employees.employee_id \n",
    "ORDER BY 1, 2\n",
    "\n",
    "\"\"\"\n",
    "pd.read_sql_query(query, conn)"
   ]
  },
  {
   "cell_type": "markdown",
   "id": "7a13226d-360c-4b44-85dd-0599187367a1",
   "metadata": {},
   "source": [
    "#### 12. Вывести топ 5 товаров которые покупают чаще всего"
   ]
  },
  {
   "cell_type": "code",
   "execution_count": 43,
   "id": "48d92190-66a5-471e-afa1-233d40f4e57e",
   "metadata": {
    "tags": []
   },
   "outputs": [
    {
     "name": "stderr",
     "output_type": "stream",
     "text": [
      "/tmp/ipykernel_72/284468299.py:16: UserWarning: pandas only supports SQLAlchemy connectable (engine/connection) or database string URI or sqlite3 DBAPI2 connection. Other DBAPI2 objects are not tested. Please consider using SQLAlchemy.\n",
      "  pd.read_sql_query(query, conn)\n"
     ]
    },
    {
     "data": {
      "text/html": [
       "<div>\n",
       "<style scoped>\n",
       "    .dataframe tbody tr th:only-of-type {\n",
       "        vertical-align: middle;\n",
       "    }\n",
       "\n",
       "    .dataframe tbody tr th {\n",
       "        vertical-align: top;\n",
       "    }\n",
       "\n",
       "    .dataframe thead th {\n",
       "        text-align: right;\n",
       "    }\n",
       "</style>\n",
       "<table border=\"1\" class=\"dataframe\">\n",
       "  <thead>\n",
       "    <tr style=\"text-align: right;\">\n",
       "      <th></th>\n",
       "      <th>product</th>\n",
       "      <th>category</th>\n",
       "      <th>Количество_заказов</th>\n",
       "    </tr>\n",
       "  </thead>\n",
       "  <tbody>\n",
       "    <tr>\n",
       "      <th>0</th>\n",
       "      <td>Rasta WCT</td>\n",
       "      <td>Sportwear</td>\n",
       "      <td>54</td>\n",
       "    </tr>\n",
       "    <tr>\n",
       "      <th>1</th>\n",
       "      <td>Samba Socker  Socks</td>\n",
       "      <td>Men´s Clothes</td>\n",
       "      <td>52</td>\n",
       "    </tr>\n",
       "    <tr>\n",
       "      <th>2</th>\n",
       "      <td>Game Over T-Shirt</td>\n",
       "      <td>Sportwear</td>\n",
       "      <td>51</td>\n",
       "    </tr>\n",
       "    <tr>\n",
       "      <th>3</th>\n",
       "      <td>Rossi Bermuda Shorts</td>\n",
       "      <td>Bath Clothes</td>\n",
       "      <td>51</td>\n",
       "    </tr>\n",
       "    <tr>\n",
       "      <th>4</th>\n",
       "      <td>High Heels Shoes</td>\n",
       "      <td>Ladies´Footwear</td>\n",
       "      <td>50</td>\n",
       "    </tr>\n",
       "  </tbody>\n",
       "</table>\n",
       "</div>"
      ],
      "text/plain": [
       "                product         category  Количество_заказов\n",
       "0             Rasta WCT        Sportwear                  54\n",
       "1   Samba Socker  Socks    Men´s Clothes                  52\n",
       "2     Game Over T-Shirt        Sportwear                  51\n",
       "3  Rossi Bermuda Shorts     Bath Clothes                  51\n",
       "4      High Heels Shoes  Ladies´Footwear                  50"
      ]
     },
     "execution_count": 43,
     "metadata": {},
     "output_type": "execute_result"
    }
   ],
   "source": [
    "query = \"\"\"\n",
    "WITH query AS (\n",
    "  SELECT product, category,\n",
    "    COUNT(order_id) OVER(partition by orders.product_id) AS Количество_заказов,\n",
    "    ROW_NUMBER() OVER(partition by orders.product_id) AS n_row\n",
    "  FROM orders LEFT JOIN products ON orders.product_id = products.products_id \n",
    "    LEFT JOIN categories ON products.category_id = categories.category_id \n",
    ")\n",
    "\n",
    "SELECT product, category, Количество_заказов\n",
    "FROM query\n",
    "WHERE n_row = 1\n",
    "ORDER BY 3 DESC\n",
    "LIMIT 5\n",
    "\"\"\"\n",
    "pd.read_sql_query(query, conn)"
   ]
  },
  {
   "cell_type": "code",
   "execution_count": null,
   "id": "4f7475c1-d1cd-4482-955e-45a253b0916f",
   "metadata": {},
   "outputs": [],
   "source": []
  }
 ],
 "metadata": {
  "kernelspec": {
   "display_name": "Python 3 (ipykernel)",
   "language": "python",
   "name": "python3"
  },
  "language_info": {
   "codemirror_mode": {
    "name": "ipython",
    "version": 3
   },
   "file_extension": ".py",
   "mimetype": "text/x-python",
   "name": "python",
   "nbconvert_exporter": "python",
   "pygments_lexer": "ipython3",
   "version": "3.10.9"
  }
 },
 "nbformat": 4,
 "nbformat_minor": 5
}
